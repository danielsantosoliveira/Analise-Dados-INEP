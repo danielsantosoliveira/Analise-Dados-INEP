{
 "cells": [
  {
   "cell_type": "code",
   "execution_count": null,
   "metadata": {},
   "outputs": [],
   "source": [
    "''' @author: Daniel e Everton\n",
    "    Análise de dados INEP/ENAD: Evolução dos negros (Pretos e Pardos) ingressantes em Universidades Públicas do Brasil;\n",
    "    Anos de referência: 2009 até 2013;\n",
    "    Dados extraídos do site:\n",
    "    http://portal.inep.gov.br/microdados #ENADE\n",
    "'''"
   ]
  },
  {
   "cell_type": "code",
   "execution_count": 1,
   "metadata": {},
   "outputs": [],
   "source": [
    "#import das bibliotecas necessárias para o desenvolvimento do EP\n",
    "import pandas as pd\n",
    "import matplotlib.pyplot as plt"
   ]
  },
  {
   "cell_type": "code",
   "execution_count": 2,
   "metadata": {},
   "outputs": [],
   "source": [
    "#configurações iniciais\n",
    "low_memory=False\n",
    "pd.options.display.max_columns = 80\n",
    "pd.options.display.max_rows = 90"
   ]
  },
  {
   "cell_type": "code",
   "execution_count": 3,
   "metadata": {},
   "outputs": [],
   "source": [
    "#declaração variáveis\n",
    "d = './Dados/'\n",
    "pN = 'DM_ALUNO_' \n",
    "anos = ['2009', '2010', '2011', '2012', '2013'] \n",
    "e = '.CSV'\n",
    "dm = 'DM.CSV'\n",
    "dados = []\n",
    "dadosFe = []\n",
    "dadosEs = []\n",
    "dadosMu = []"
   ]
  },
  {
   "cell_type": "code",
   "execution_count": 4,
   "metadata": {},
   "outputs": [],
   "source": [
    "#criação do Data Frame e Leitura dos arquivos, contando os dados e armazená-los nas respectivas listas\n",
    "for ano in anos:\n",
    "    df = pd.read_csv(d+pN+ano+e, usecols=['CO_COR_RACA_ALUNO', 'CO_CATEGORIA_ADMINISTRATIVA'], delimiter = '|', encoding = 'iso-8859-1')\n",
    "    #contabilização e consolidação das informações - Geral\n",
    "    dados.append(df.query('(CO_COR_RACA_ALUNO == 2 or CO_COR_RACA_ALUNO == 3) and (CO_CATEGORIA_ADMINISTRATIVA == 1 | CO_CATEGORIA_ADMINISTRATIVA == 2 | CO_CATEGORIA_ADMINISTRATIVA == 3)')['CO_COR_RACA_ALUNO'].count()) \n",
    "    #contabilização e consolidação das inforamções - Federal\n",
    "    dadosFe.append(df.query('(CO_COR_RACA_ALUNO == 2 or CO_COR_RACA_ALUNO == 3) and (CO_CATEGORIA_ADMINISTRATIVA == 1)')['CO_COR_RACA_ALUNO'].count()) \n",
    "    #contabilização e consolidação das informações - Estadual\n",
    "    dadosEs.append(df.query('(CO_COR_RACA_ALUNO == 2 or CO_COR_RACA_ALUNO == 3) and (CO_CATEGORIA_ADMINISTRATIVA == 2)')['CO_COR_RACA_ALUNO'].count()) \n",
    "    #contabilização e consolidação das informações - Municipal\n",
    "    dadosMu.append(df.query('(CO_COR_RACA_ALUNO == 2 or CO_COR_RACA_ALUNO == 3) and (CO_CATEGORIA_ADMINISTRATIVA == 3)')['CO_COR_RACA_ALUNO'].count())"
   ]
  },
  {
   "cell_type": "code",
   "execution_count": 5,
   "metadata": {
    "scrolled": false
   },
   "outputs": [
    {
     "data": {
      "image/png": "[encoded data removed]",
      "text/plain": [
       "<Figure size 432x288 with 1 Axes>"
      ]
     },
     "metadata": {
      "needs_background": "light"
     },
     "output_type": "display_data"
    }
   ],
   "source": [
    "#plotar dados gráfico\n",
    "fig, ax = plt.subplots()\n",
    "plt.rcParams['figure.figsize'] = (10,8)\n",
    "ax.plot(anos, dados, label='Total')\n",
    "ax.plot(anos, dadosFe, label='Federal')\n",
    "ax.plot(anos, dadosEs, label='Estadual')\n",
    "ax.plot(anos, dadosMu, label='Municipal')\n",
    "ax.grid()\n",
    "plt.legend()\n",
    "plt.title('Evolução: Negros (Pretos e Pardos) ingressantes em Universidades Públicas')\n",
    "plt.xlabel('Anos')\n",
    "plt.ylabel('Quantidade')\n",
    "plt.show()"
   ]
  },
  {
   "cell_type": "code",
   "execution_count": 24,
   "metadata": {},
   "outputs": [
    {
     "data": {
      "text/html": [
       "<div>\n",
       "<style scoped>\n",
       "    .dataframe tbody tr th:only-of-type {\n",
       "        vertical-align: middle;\n",
       "    }\n",
       "\n",
       "    .dataframe tbody tr th {\n",
       "        vertical-align: top;\n",
       "    }\n",
       "\n",
       "    .dataframe thead th {\n",
       "        text-align: right;\n",
       "    }\n",
       "</style>\n",
       "<table border=\"1\" class=\"dataframe\">\n",
       "  <thead>\n",
       "    <tr style=\"text-align: right;\">\n",
       "      <th></th>\n",
       "      <th>2009</th>\n",
       "      <th>2010</th>\n",
       "      <th>2011</th>\n",
       "      <th>2012</th>\n",
       "      <th>2013</th>\n",
       "    </tr>\n",
       "  </thead>\n",
       "  <tbody>\n",
       "    <tr>\n",
       "      <td>Federal</td>\n",
       "      <td>166132</td>\n",
       "      <td>202088</td>\n",
       "      <td>238883</td>\n",
       "      <td>275255</td>\n",
       "      <td>328839</td>\n",
       "    </tr>\n",
       "    <tr>\n",
       "      <td>Estadual</td>\n",
       "      <td>40901</td>\n",
       "      <td>74408</td>\n",
       "      <td>91476</td>\n",
       "      <td>107063</td>\n",
       "      <td>126693</td>\n",
       "    </tr>\n",
       "    <tr>\n",
       "      <td>Municipal</td>\n",
       "      <td>5704</td>\n",
       "      <td>6820</td>\n",
       "      <td>7608</td>\n",
       "      <td>6115</td>\n",
       "      <td>8427</td>\n",
       "    </tr>\n",
       "    <tr>\n",
       "      <td>Total</td>\n",
       "      <td>212737</td>\n",
       "      <td>283316</td>\n",
       "      <td>337967</td>\n",
       "      <td>388433</td>\n",
       "      <td>463959</td>\n",
       "    </tr>\n",
       "  </tbody>\n",
       "</table>\n",
       "</div>"
      ],
      "text/plain": [
       "             2009    2010    2011    2012    2013\n",
       "Federal    166132  202088  238883  275255  328839\n",
       "Estadual    40901   74408   91476  107063  126693\n",
       "Municipal    5704    6820    7608    6115    8427\n",
       "Total      212737  283316  337967  388433  463959"
      ]
     },
     "execution_count": 24,
     "metadata": {},
     "output_type": "execute_result"
    }
   ],
   "source": [
    "#organização dos dados em tabelas, para melhor visualização dos dados\n",
    "consolidacao = {\n",
    "'2009': [dadosFe[0], dadosEs[0], dadosMu[0], dados[0]],\n",
    "'2010': [dadosFe[1], dadosEs[1], dadosMu[1], dados[1]],\n",
    "'2011': [dadosFe[2], dadosEs[2], dadosMu[2], dados[2]],\n",
    "'2012': [dadosFe[3], dadosEs[3], dadosMu[3], dados[3]],\n",
    "'2013': [dadosFe[4], dadosEs[4], dadosMu[4], dados[4]],\n",
    "}\n",
    "df_DC = pd.DataFrame(consolidacao, columns=anos, index=['Federal','Estadual','Municipal','Total'])\n",
    "df_DC"
   ]
  }
 ],
 "metadata": {
  "kernelspec": {
   "display_name": "Python 3",
   "language": "python",
   "name": "python3"
  },
  "language_info": {
   "codemirror_mode": {
    "name": "ipython",
    "version": 3
   },
   "file_extension": ".py",
   "mimetype": "text/x-python",
   "name": "python",
   "nbconvert_exporter": "python",
   "pygments_lexer": "ipython3",
   "version": "3.7.4"
  }
 },
 "nbformat": 4,
 "nbformat_minor": 2
}
